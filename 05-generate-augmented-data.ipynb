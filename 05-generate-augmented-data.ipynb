{
 "cells": [
  {
   "cell_type": "markdown",
   "metadata": {},
   "source": [
    "# Generate Augmented Data"
   ]
  },
  {
   "cell_type": "markdown",
   "metadata": {},
   "source": [
    "This notebook demonstrates how to generate augmented data for the training and test datasets."
   ]
  },
  {
   "cell_type": "markdown",
   "metadata": {},
   "source": [
    "## Requirements"
   ]
  },
  {
   "cell_type": "markdown",
   "metadata": {},
   "source": [
    "Import dependencies."
   ]
  },
  {
   "cell_type": "code",
   "execution_count": 5,
   "metadata": {},
   "outputs": [],
   "source": [
    "from models.dataAugmentationGenerator import DataAugmentationGenerator"
   ]
  },
  {
   "cell_type": "markdown",
   "metadata": {},
   "source": [
    "## Training set"
   ]
  },
  {
   "cell_type": "code",
   "execution_count": 6,
   "metadata": {},
   "outputs": [
    {
     "name": "stdout",
     "output_type": "stream",
     "text": [
      "Found 690 images belonging to 1 classes.\n",
      "Found 690 images belonging to 1 classes.\n",
      "690 image(s) have been genearated with success!\n"
     ]
    }
   ],
   "source": [
    "image_size = (256, 256)\n",
    "image_folder = 'nwpu_images'\n",
    "mask_folder = 'nwpu_label_images'\n",
    "image_augmented_folder = 'nwpu_augmented_images'\n",
    "mask_augmented_folder = 'nwpu_label_augmented_images'\n",
    "augmented_samples = len(glob.glob(os.path.join(image_folder, 'data', '*.jpg'))) * 1\n",
    "data_augmentation_parameters = (image_folder, image_augmented_folder, mask_folder, mask_augmented_folder, image_size)\n",
    "data_augmenation_generator = DataAugmentationGenerator(*data_augmentation_parameters)\n",
    "data_augmenation_generator.generate(augmented_samples)"
   ]
  },
  {
   "cell_type": "markdown",
   "metadata": {},
   "source": [
    "## Test set"
   ]
  },
  {
   "cell_type": "code",
   "execution_count": 7,
   "metadata": {},
   "outputs": [
    {
     "name": "stdout",
     "output_type": "stream",
     "text": [
      "Found 182 images belonging to 1 classes.\n",
      "Found 182 images belonging to 1 classes.\n",
      "182 image(s) have been genearated with success!\n"
     ]
    }
   ],
   "source": [
    "image_size = (256, 256)\n",
    "image_folder = 's2cloudless_imagery'\n",
    "mask_folder = 's2cloudless_label_imagery'\n",
    "image_augmented_folder = 's2cloudless_augmented_imagery'\n",
    "mask_augmented_folder = 's2cloudless_label_augmented_imagery'\n",
    "augmented_samples = len(glob.glob(os.path.join(image_folder, 'data', '*.jpg'))) * 1\n",
    "data_augmentation_parameters = (image_folder, image_augmented_folder, mask_folder, mask_augmented_folder, image_size)\n",
    "data_augmenation_generator = DataAugmentationGenerator(*data_augmentation_parameters)\n",
    "data_augmenation_generator.generate(augmented_samples)"
   ]
  }
 ],
 "metadata": {
  "kernelspec": {
   "display_name": "Python 3",
   "language": "python",
   "name": "python3"
  },
  "language_info": {
   "codemirror_mode": {
    "name": "ipython",
    "version": 3
   },
   "file_extension": ".py",
   "mimetype": "text/x-python",
   "name": "python",
   "nbconvert_exporter": "python",
   "pygments_lexer": "ipython3",
   "version": "3.8.5"
  }
 },
 "nbformat": 4,
 "nbformat_minor": 4
}
