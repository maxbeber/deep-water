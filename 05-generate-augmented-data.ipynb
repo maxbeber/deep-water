{
 "cells": [
  {
   "cell_type": "markdown",
   "metadata": {},
   "source": [
    "# Generate Augmented Data"
   ]
  },
  {
   "cell_type": "markdown",
   "metadata": {},
   "source": [
    "This notebook demonstrates how to generate augmented data for the training and test datasets."
   ]
  },
  {
   "cell_type": "markdown",
   "metadata": {},
   "source": [
    "## Requirements"
   ]
  },
  {
   "cell_type": "markdown",
   "metadata": {},
   "source": [
    "Import dependencies."
   ]
  },
  {
   "cell_type": "code",
   "execution_count": 1,
   "metadata": {},
   "outputs": [],
   "source": [
    "import glob\n",
    "import numpy as np\n",
    "import os\n",
    "import matplotlib\n",
    "import matplotlib.pyplot as plt\n",
    "from models.dataAugmentationLoader import DataAugmentationLoader"
   ]
  },
  {
   "cell_type": "markdown",
   "metadata": {},
   "source": [
    "Define global constants."
   ]
  },
  {
   "cell_type": "code",
   "execution_count": 2,
   "metadata": {},
   "outputs": [],
   "source": [
    "def generate_augmented_data(augmented_file_count, image_folder, mask_folder, image_size,\\\n",
    "                            image_augmented_folder, mask_augmented_folder):\n",
    "    counter = 1\n",
    "    data_folder = 'data'\n",
    "    data_augmentation_loader = DataAugmentationLoader(image_folder, mask_folder, 1, image_size)\n",
    "    data_augmentation_generator = data_augmentation_loader()\n",
    "    while counter <= augmented_file_count:\n",
    "        pair = next(data_augmentation_generator)\n",
    "        x, y = tuple(np.array(pair, dtype='float64') / 255.0)\n",
    "        augmented_file_name = f'augmented_{counter:03d}.jpg'\n",
    "        image_file_name = os.path.join(image_augmented_folder, data_folder, augmented_file_name)\n",
    "        mask_file_name = os.path.join(mask_augmented_folder, data_folder, augmented_file_name)\n",
    "        matplotlib.image.imsave(image_file_name, np.squeeze(x))\n",
    "        matplotlib.image.imsave(mask_file_name, np.squeeze(y))\n",
    "        counter += 1\n",
    "    print(f'{counter - 1} images have been created with success!')"
   ]
  },
  {
   "cell_type": "markdown",
   "metadata": {},
   "source": [
    "## Training set"
   ]
  },
  {
   "cell_type": "code",
   "execution_count": 5,
   "metadata": {},
   "outputs": [
    {
     "name": "stdout",
     "output_type": "stream",
     "text": [
      "Found 690 images belonging to 1 classes.\n",
      "Found 690 images belonging to 1 classes.\n",
      "690 images have been created with success!\n"
     ]
    }
   ],
   "source": [
    "image_folder = 'nwpu_images'\n",
    "mask_folder = 'nwpu_label_images'\n",
    "image_size = (256, 256)\n",
    "image_augmented_folder = 'nwpu_augmented_images'\n",
    "mask_augmented_folder = 'nwpu_label_augmented_images'\n",
    "augmented_file_count = len(glob.glob(os.path.join(image_folder, 'data', '*.jpg'))) * 1\n",
    "generate_augmented_data(augmented_file_count, image_folder, mask_folder, image_size, image_augmented_folder, mask_augmented_folder)"
   ]
  },
  {
   "cell_type": "markdown",
   "metadata": {},
   "source": [
    "## Test set"
   ]
  },
  {
   "cell_type": "code",
   "execution_count": 3,
   "metadata": {},
   "outputs": [
    {
     "name": "stdout",
     "output_type": "stream",
     "text": [
      "Found 359 images belonging to 1 classes.\n",
      "Found 359 images belonging to 1 classes.\n",
      "359 images have been created with success!\n"
     ]
    }
   ],
   "source": [
    "image_folder = 's2cloudless_imagery'\n",
    "mask_folder = 's2cloudless_label_imagery'\n",
    "image_size = (256, 256)\n",
    "image_augmented_folder = 's2cloudless_augmented_imagery'\n",
    "mask_augmented_folder = 's2cloudless_label_augmented_imagery'\n",
    "augmented_file_count = len(glob.glob(os.path.join(image_folder, 'data', '*.jpg'))) * 1\n",
    "generate_augmented_data(augmented_file_count, image_folder, mask_folder, image_size, image_augmented_folder, mask_augmented_folder)"
   ]
  }
 ],
 "metadata": {
  "kernelspec": {
   "display_name": "Python 3",
   "language": "python",
   "name": "python3"
  },
  "language_info": {
   "codemirror_mode": {
    "name": "ipython",
    "version": 3
   },
   "file_extension": ".py",
   "mimetype": "text/x-python",
   "name": "python",
   "nbconvert_exporter": "python",
   "pygments_lexer": "ipython3",
   "version": "3.8.5"
  }
 },
 "nbformat": 4,
 "nbformat_minor": 4
}
