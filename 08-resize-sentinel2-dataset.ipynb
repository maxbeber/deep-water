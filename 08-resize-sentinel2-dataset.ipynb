{
 "cells": [
  {
   "cell_type": "code",
   "execution_count": 1,
   "metadata": {},
   "outputs": [],
   "source": [
    "import glob\n",
    "import numpy as np\n",
    "import os\n",
    "import rasterio\n",
    "import tensorflow as tf"
   ]
  },
  {
   "cell_type": "code",
   "execution_count": 3,
   "metadata": {},
   "outputs": [],
   "source": [
    "image_size = (256, 256)\n",
    "dataset = 's2cloudless_imagery'\n",
    "data_folder = 'mask'\n",
    "resized_folder = 'mask_resized'\n",
    "destination_folder = os.path.join(dataset, resized_folder)\n",
    "image_search_pattern = os.path.join(dataset, data_folder, '*.jpg')\n",
    "image_paths = list(glob.glob(image_search_pattern))\n",
    "for image_path in image_paths:\n",
    "    input_image = None\n",
    "    image_name = image_path.split(os.sep)[-1]\n",
    "    destination_full_path = os.path.join(destination_folder, image_name)\n",
    "    with rasterio.open(image_path) as dataset:\n",
    "        bands = dataset.read()\n",
    "        raw_image = np.ma.transpose(bands, [1, 2, 0])\n",
    "        input_image = tf.Variable(raw_image)\n",
    "    output_image = tf.keras.preprocessing.image.smart_resize(input_image, image_size)\n",
    "    tf.keras.preprocessing.image.save_img(destination_full_path, output_image, scale=True)"
   ]
  }
 ],
 "metadata": {
  "kernelspec": {
   "display_name": "Python 3",
   "language": "python",
   "name": "python3"
  },
  "language_info": {
   "codemirror_mode": {
    "name": "ipython",
    "version": 3
   },
   "file_extension": ".py",
   "mimetype": "text/x-python",
   "name": "python",
   "nbconvert_exporter": "python",
   "pygments_lexer": "ipython3",
   "version": "3.8.5"
  }
 },
 "nbformat": 4,
 "nbformat_minor": 4
}
