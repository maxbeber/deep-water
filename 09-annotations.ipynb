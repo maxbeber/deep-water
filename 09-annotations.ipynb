{
 "cells": [
  {
   "cell_type": "code",
   "execution_count": 27,
   "metadata": {},
   "outputs": [],
   "source": [
    "import json\n",
    "import os\n",
    "%matplotlib inline"
   ]
  },
  {
   "cell_type": "code",
   "execution_count": 35,
   "metadata": {},
   "outputs": [],
   "source": [
    "base_folder = 'annotations'\n",
    "dataset_name = 'nwpu'\n",
    "merged_file = 'all_labels_nwpu.json'"
   ]
  },
  {
   "cell_type": "markdown",
   "metadata": {},
   "source": [
    "The code below will read a `json` file that contains a dictionary of image names and its annotations. Then, it will iterate over each pair and create a new `json` file with the same name as the image and respectively annotations."
   ]
  },
  {
   "cell_type": "code",
   "execution_count": 36,
   "metadata": {},
   "outputs": [],
   "source": [
    "s2cloudless_annotation_file_path = os.path.join(base_folder, merged_file)\n",
    "annotations = json.load(open(s2cloudless_annotation_file_path))\n",
    "for image_name, annotation in annotations.items():\n",
    "    image_name_without_extension = image_name.split('.')[0]\n",
    "    annotation_file_name = f'{image_name_without_extension}.json'\n",
    "    annotation_file_path = os.path.join(base_folder, dataset_name, annotation_file_name)\n",
    "    with open(annotation_file_path, 'w') as outfile:\n",
    "        annotation_pair = {image_name: annotation}\n",
    "        json.dump(annotation_pair, outfile)"
   ]
  }
 ],
 "metadata": {
  "kernelspec": {
   "display_name": "Python 3",
   "language": "python",
   "name": "python3"
  },
  "language_info": {
   "codemirror_mode": {
    "name": "ipython",
    "version": 3
   },
   "file_extension": ".py",
   "mimetype": "text/x-python",
   "name": "python",
   "nbconvert_exporter": "python",
   "pygments_lexer": "ipython3",
   "version": "3.8.5"
  }
 },
 "nbformat": 4,
 "nbformat_minor": 4
}
